{
  "nbformat": 4,
  "nbformat_minor": 0,
  "metadata": {
    "colab": {
      "provenance": [],
      "authorship_tag": "ABX9TyMHxs/cr7/K5GUmclplnAtd",
      "include_colab_link": true
    },
    "kernelspec": {
      "name": "python3",
      "display_name": "Python 3"
    },
    "language_info": {
      "name": "python"
    }
  },
  "cells": [
    {
      "cell_type": "markdown",
      "metadata": {
        "id": "view-in-github",
        "colab_type": "text"
      },
      "source": [
        "<a href=\"https://colab.research.google.com/github/shubhamvermapersonal/da_module_questions/blob/main/Files%2C_exceptional_handling%2C_logging_and_memory_management.ipynb\" target=\"_parent\"><img src=\"https://colab.research.google.com/assets/colab-badge.svg\" alt=\"Open In Colab\"/></a>"
      ]
    },
    {
      "cell_type": "markdown",
      "source": [
        "# **Theory Questions**"
      ],
      "metadata": {
        "id": "Uj4lrnUVBaHX"
      }
    },
    {
      "cell_type": "markdown",
      "source": [
        "### 1. **What is the difference between interpreted and compiled languages?**\n",
        "   - **Interpreted languages** are executed line-by-line by an interpreter at runtime, such as Python, JavaScript, or Ruby. They do not require a separate compilation step, and execution is generally slower.\n",
        "   - **Compiled languages** are transformed into machine code by a compiler before execution, such as C or C++. The compiled code is executed directly by the machine and is typically faster.\n",
        "\n",
        "### 2. **What is exception handling in Python?**\n",
        "   - Exception handling in Python is a way to deal with runtime errors using `try`, `except`, `else`, and `finally` blocks. It allows the program to continue running even after encountering an error.\n",
        "\n",
        "### 3. **What is the purpose of the `finally` block in exception handling?**\n",
        "   - The `finally` block is executed no matter what, whether an exception is raised or not. It is typically used for cleanup actions, such as closing files or releasing resources.\n",
        "\n",
        "### 4. **What is logging in Python?**\n",
        "   - Logging is a way to track events that happen during the execution of a program. The `logging` module in Python provides a flexible framework to log messages at various severity levels (e.g., DEBUG, INFO, WARNING, ERROR, CRITICAL).\n",
        "\n",
        "### 5. **What is the significance of the `__del__` method in Python?**\n",
        "   - The `__del__` method is a special method called when an object is about to be destroyed (i.e., when it is garbage collected). It is used to perform cleanup, like closing files or releasing external resources.\n",
        "\n",
        "### 6. **What is the difference between `import` and `from ... import` in Python?**\n",
        "   - `import` imports the entire module and you access its functions or classes using `module.function`.  \n",
        "   - `from ... import` imports specific functions or classes directly, so you can use them without needing to prefix them with the module name.\n",
        "\n",
        "### 7. **How can you handle multiple exceptions in Python?**\n",
        "   - You can handle multiple exceptions in Python by using multiple `except` blocks or by combining exceptions in a tuple:\n",
        "     ```python\n",
        "     try:\n",
        "         # some code\n",
        "     except (TypeError, ValueError) as e:\n",
        "         # handle both TypeError and ValueError\n",
        "     ```\n",
        "\n",
        "### 8. **What is the purpose of the `with` statement when handling files in Python?**\n",
        "   - The `with` statement ensures that a file is properly opened and closed, even if an exception occurs. It is a context manager that simplifies file handling:\n",
        "     ```python\n",
        "     with open('file.txt', 'r') as file:\n",
        "         content = file.read()\n",
        "     ```\n",
        "\n",
        "### 9. **What is the difference between multithreading and multiprocessing?**\n",
        "   - **Multithreading** is a way to run multiple threads in the same process. It shares memory space and is useful for I/O-bound tasks.\n",
        "   - **Multiprocessing** runs multiple processes with separate memory spaces. It is useful for CPU-bound tasks as it utilizes multiple cores.\n",
        "\n",
        "### 10. **What are the advantages of using logging in a program?**\n",
        "   - Logging provides a record of program execution that can be used for debugging, tracking performance, and auditing. It helps maintain a record of issues and their resolutions in production environments.\n",
        "\n",
        "### 11. **What is memory management in Python?**\n",
        "   - Memory management in Python is handled automatically by the garbage collector, which reclaims memory by cleaning up objects that are no longer in use.\n",
        "\n",
        "### 12. **What are the basic steps involved in exception handling in Python?**\n",
        "   - The basic steps are:\n",
        "     - `try`: Block where you write code that might raise an exception.\n",
        "     - `except`: Block that handles specific exceptions.\n",
        "     - `else`: Optional block that runs if no exception occurs.\n",
        "     - `finally`: Optional block that runs no matter what.\n",
        "\n",
        "### 13. **Why is memory management important in Python?**\n",
        "   - Efficient memory management ensures that the program uses resources optimally, reduces memory leaks, and improves performance. Python handles memory automatically, but proper object lifecycle management is still crucial.\n",
        "\n",
        "### 14. **What is the role of `try` and `except` in exception handling?**\n",
        "   - `try` is used to wrap the code that might raise an exception, and `except` is used to handle the exception if it occurs, preventing the program from crashing.\n",
        "\n",
        "### 15. **How does Python's garbage collection system work?**\n",
        "   - Python uses reference counting to track objects. When the reference count drops to zero, the object is garbage collected. Additionally, it uses a cyclic garbage collector to detect and clean up reference cycles.\n",
        "\n",
        "### 16. **What is the purpose of the `else` block in exception handling?**\n",
        "   - The `else` block is executed if no exception occurs in the `try` block. It is often used for code that should run only if the `try` block succeeds.\n",
        "\n",
        "### 17. **What are the common logging levels in Python?**\n",
        "   - The common logging levels in Python are:\n",
        "     - `DEBUG`\n",
        "     - `INFO`\n",
        "     - `WARNING`\n",
        "     - `ERROR`\n",
        "     - `CRITICAL`\n",
        "\n",
        "### 18. **What is the difference between `os.fork()` and multiprocessing in Python?**\n",
        "   - `os.fork()` creates a child process by duplicating the parent process. It is a low-level method and only works on Unix-like systems.\n",
        "   - `multiprocessing` is a high-level module in Python for creating separate processes with independent memory spaces, and it works across different platforms.\n",
        "\n",
        "### 19. **What is the importance of closing a file in Python?**\n",
        "   - Closing a file ensures that all data is written to disk and that system resources (like file handles) are freed up. This can be done manually or automatically using the `with` statement.\n",
        "\n",
        "### 20. **What is the difference between `file.read()` and `file.readline()` in Python?**\n",
        "   - `file.read()` reads the entire content of the file as a single string.\n",
        "   - `file.readline()` reads the next line from the file each time it is called.\n",
        "\n",
        "### 21. **What is the `logging` module in Python used for?**\n",
        "   - The `logging` module is used to log messages from your program at various severity levels, making it easier to debug and track the execution flow.\n",
        "\n",
        "### 22. **What is the `os` module in Python used for in file handling?**\n",
        "   - The `os` module provides functions to interact with the operating system, including file manipulation (e.g., `os.remove()` for deleting files, `os.rename()` for renaming files).\n",
        "\n",
        "### 23. **What are the challenges associated with memory management in Python?**\n",
        "   - Some challenges include handling circular references, preventing memory leaks in large programs, and managing large datasets that might not fit into memory.\n",
        "\n",
        "### 24. **How do you raise an exception manually in Python?**\n",
        "   - You can raise an exception using the `raise` keyword:\n",
        "     ```python\n",
        "     raise ValueError(\"This is a custom error message\")\n",
        "     ```\n",
        "\n",
        "### 25. **Why is it important to use multithreading in certain applications?**\n",
        "   - Multithreading is useful in I/O-bound applications where tasks are waiting for external resources (e.g., disk or network), as it allows other tasks to run while waiting, improving performance."
      ],
      "metadata": {
        "id": "7Mg4lZFlBQNk"
      }
    },
    {
      "cell_type": "markdown",
      "source": [
        "# **Practical Questions**"
      ],
      "metadata": {
        "id": "XDlZ7CxyBn3d"
      }
    },
    {
      "cell_type": "markdown",
      "source": [
        "**1. How can you open a file for writing in Python and write a string to it?**"
      ],
      "metadata": {
        "id": "xL1QVsgyBxa9"
      }
    },
    {
      "cell_type": "code",
      "source": [
        "# Open a file for writing (it will create the file if it doesn't exist)\n",
        "with open('example.txt', 'w') as file:\n",
        "    # Write a string to the file\n",
        "    file.write('Hello, this is a test string.')\n"
      ],
      "metadata": {
        "id": "9DOIVvKpBXK2"
      },
      "execution_count": null,
      "outputs": []
    },
    {
      "cell_type": "markdown",
      "source": [
        "**2. Write a Python program to read the contents of a file and print each line.**"
      ],
      "metadata": {
        "id": "x5u9s-mMCSTy"
      }
    },
    {
      "cell_type": "code",
      "source": [
        "# Open the file for reading\n",
        "with open('example.txt', 'r') as file:\n",
        "    # Read and print each line\n",
        "    for line in file:\n",
        "        print(line.strip())  # Using strip() to remove extra newlines\n"
      ],
      "metadata": {
        "colab": {
          "base_uri": "https://localhost:8080/"
        },
        "id": "6lsdPJj6COVt",
        "outputId": "6059bb97-2576-4368-e7fb-1b8a945956fd"
      },
      "execution_count": null,
      "outputs": [
        {
          "output_type": "stream",
          "name": "stdout",
          "text": [
            "Hello, this is a test string.\n"
          ]
        }
      ]
    },
    {
      "cell_type": "markdown",
      "source": [
        "**3. How would you handle a case where the file doesn't exist while trying to open it for reading?**"
      ],
      "metadata": {
        "id": "R6O5F0KRCh1o"
      }
    },
    {
      "cell_type": "code",
      "source": [
        "try:\n",
        "    # Try to open the file for reading\n",
        "    with open('example.txt', 'r') as file:\n",
        "        # Read and print each line\n",
        "        for line in file:\n",
        "            print(line.strip())  # Using strip() to remove extra newlines\n",
        "except FileNotFoundError:\n",
        "    # Handle the case where the file doesn't exist\n",
        "    print(\"The file does not exist.\")\n"
      ],
      "metadata": {
        "colab": {
          "base_uri": "https://localhost:8080/"
        },
        "id": "Kw5YOm0bCbCV",
        "outputId": "8a540666-fa44-4708-f56d-8995a2e77e68"
      },
      "execution_count": null,
      "outputs": [
        {
          "output_type": "stream",
          "name": "stdout",
          "text": [
            "Hello, this is a test string.\n"
          ]
        }
      ]
    },
    {
      "cell_type": "markdown",
      "source": [
        "**4. Write a Python script that reads from one file and writes its content to another file.**"
      ],
      "metadata": {
        "id": "Foz5KBOOCvz_"
      }
    },
    {
      "cell_type": "code",
      "source": [
        "# Open the source file for reading\n",
        "with open('source.txt', 'r') as source_file:\n",
        "    # Read the content of the source file\n",
        "    content = source_file.read()\n",
        "\n",
        "# Open the destination file for writing\n",
        "with open('destination.txt', 'w') as destination_file:\n",
        "    # Write the content to the destination file\n",
        "    destination_file.write(content)\n",
        "\n",
        "print(\"Content has been copied successfully!\")"
      ],
      "metadata": {
        "id": "i0mWIJzUC2QE"
      },
      "execution_count": null,
      "outputs": []
    },
    {
      "cell_type": "markdown",
      "source": [
        "**5. How would you catch and handle division by zero error in Python?**"
      ],
      "metadata": {
        "id": "0yE5cOxNC94k"
      }
    },
    {
      "cell_type": "code",
      "source": [
        "try:\n",
        "    # Code that may raise a division by zero error\n",
        "    numerator = 10\n",
        "    denominator = 0\n",
        "    result = numerator / denominator\n",
        "    print(\"Result:\", result)\n",
        "except ZeroDivisionError:\n",
        "    # Handle the division by zero error\n",
        "    print(\"Error: Cannot divide by zero.\")"
      ],
      "metadata": {
        "colab": {
          "base_uri": "https://localhost:8080/"
        },
        "id": "xT3a6juVDCty",
        "outputId": "a48ca1d2-9b62-4d3f-d917-9374850afc4c"
      },
      "execution_count": null,
      "outputs": [
        {
          "output_type": "stream",
          "name": "stdout",
          "text": [
            "Error: Cannot divide by zero.\n"
          ]
        }
      ]
    },
    {
      "cell_type": "markdown",
      "source": [
        "**6. Write a Python program that logs an error message to a log file when a division by zero exception occurs.**"
      ],
      "metadata": {
        "id": "sBTIkYHFDFCM"
      }
    },
    {
      "cell_type": "code",
      "source": [
        "import logging\n",
        "\n",
        "# Configure the logging module to write to a log file\n",
        "logging.basicConfig(filename='error_log.txt', level=logging.ERROR,\n",
        "                    format='%(asctime)s - %(levelname)s - %(message)s')\n",
        "\n",
        "try:\n",
        "    # Code that may raise a division by zero error\n",
        "    numerator = 10\n",
        "    denominator = 0\n",
        "    result = numerator / denominator\n",
        "    print(\"Result:\", result)\n",
        "except ZeroDivisionError as e:\n",
        "    # Log the error message to the log file\n",
        "    logging.error(f\"Division by zero error: {e}\")\n",
        "\n",
        "    # Optionally print a message for the user\n",
        "    print(\"Error: Cannot divide by zero. Check the log file for more details.\")\n"
      ],
      "metadata": {
        "colab": {
          "base_uri": "https://localhost:8080/"
        },
        "id": "7LNOiSGtDQq0",
        "outputId": "891b2e99-6ec8-4279-c20d-73d627c4f7b9"
      },
      "execution_count": null,
      "outputs": [
        {
          "output_type": "stream",
          "name": "stderr",
          "text": [
            "ERROR:root:Division by zero error: division by zero\n"
          ]
        },
        {
          "output_type": "stream",
          "name": "stdout",
          "text": [
            "Error: Cannot divide by zero. Check the log file for more details.\n"
          ]
        }
      ]
    },
    {
      "cell_type": "markdown",
      "source": [
        "**7. How do you log information at different levels (INFO, ERROR, WARNING) in Python using the logging module?**"
      ],
      "metadata": {
        "id": "IM8AbQsdDZpB"
      }
    },
    {
      "cell_type": "code",
      "source": [
        "import logging\n",
        "\n",
        "# Configure the logging module to log to a file with different levels\n",
        "logging.basicConfig(filename='app_log.txt', level=logging.DEBUG,\n",
        "                    format='%(asctime)s - %(levelname)s - %(message)s')\n",
        "\n",
        "# Logging at different levels\n",
        "\n",
        "# INFO: Used for general information\n",
        "logging.info(\"This is an informational message.\")\n",
        "\n",
        "# WARNING: Used for situations that are not errors but may require attention\n",
        "logging.warning(\"This is a warning message.\")\n",
        "\n",
        "# ERROR: Used when an error occurs, usually when something goes wrong\n",
        "logging.error(\"This is an error message.\")\n",
        "\n",
        "# DEBUG: Used for detailed debug information (set logging level to DEBUG for it to be captured)\n",
        "logging.debug(\"This is a debug message. It's useful for troubleshooting.\")\n"
      ],
      "metadata": {
        "colab": {
          "base_uri": "https://localhost:8080/"
        },
        "id": "hKwIFNO7DSkI",
        "outputId": "8726e095-9c49-45f2-de1b-6604f6412dc8"
      },
      "execution_count": null,
      "outputs": [
        {
          "output_type": "stream",
          "name": "stderr",
          "text": [
            "WARNING:root:This is a warning message.\n",
            "ERROR:root:This is an error message.\n"
          ]
        }
      ]
    },
    {
      "cell_type": "markdown",
      "source": [
        "**8. Write a program to handle a file opening error using exception handling.**"
      ],
      "metadata": {
        "id": "pcELdmDhUKqI"
      }
    },
    {
      "cell_type": "code",
      "source": [
        "try:\n",
        "    with open(\"nonexistent_file.txt\", \"r\") as file:\n",
        "        content = file.read()\n",
        "except FileNotFoundError:\n",
        "    print(\"Error: File not found.\")\n"
      ],
      "metadata": {
        "id": "0HTVIRv5Dies",
        "outputId": "8da83c1b-7c6f-49ef-d4ce-4d93577b86a8",
        "colab": {
          "base_uri": "https://localhost:8080/"
        }
      },
      "execution_count": 1,
      "outputs": [
        {
          "output_type": "stream",
          "name": "stdout",
          "text": [
            "Error: File not found.\n"
          ]
        }
      ]
    },
    {
      "cell_type": "markdown",
      "source": [
        "**9. How can you read a file line by line and store its content in a list in Python?**"
      ],
      "metadata": {
        "id": "PsjZFen_UraO"
      }
    },
    {
      "cell_type": "code",
      "source": [
        "try:\n",
        "    with open(\"example.txt\", \"r\") as file:\n",
        "        lines = file.readlines()\n",
        "        lines = [line.strip() for line in lines]\n",
        "    print(lines)\n",
        "except FileNotFoundError:\n",
        "    print(\"Error: File not found.\")\n"
      ],
      "metadata": {
        "id": "JZePK8wAULf5",
        "outputId": "66b62296-8638-47d2-9b4f-1fb4a98d9617",
        "colab": {
          "base_uri": "https://localhost:8080/"
        }
      },
      "execution_count": 2,
      "outputs": [
        {
          "output_type": "stream",
          "name": "stdout",
          "text": [
            "Error: File not found.\n"
          ]
        }
      ]
    },
    {
      "cell_type": "markdown",
      "source": [
        "**10. How can you append data to an existing file in Python?**"
      ],
      "metadata": {
        "id": "EMlxkWtJU0dC"
      }
    },
    {
      "cell_type": "code",
      "source": [
        "with open(\"example.txt\", \"a\") as file:\n",
        "    file.write(\"\\nThis is appended text.\")\n"
      ],
      "metadata": {
        "id": "1YwRADB5Ux7Q"
      },
      "execution_count": 3,
      "outputs": []
    },
    {
      "cell_type": "markdown",
      "source": [
        "**11. Write a Python program that uses a try-except block to handle an error when attempting to access a dictionary key that doesn't exist.**"
      ],
      "metadata": {
        "id": "aD2kXihIU9qm"
      }
    },
    {
      "cell_type": "code",
      "source": [
        "data = {\"name\": \"Alice\"}\n",
        "try:\n",
        "    print(data[\"age\"])\n",
        "except KeyError:\n",
        "    print(\"Error: Key does not exist.\")\n"
      ],
      "metadata": {
        "id": "RlfH8VcOU9NX",
        "outputId": "f83c6a85-8979-4360-8ef1-b0e0ef97213f",
        "colab": {
          "base_uri": "https://localhost:8080/"
        }
      },
      "execution_count": 4,
      "outputs": [
        {
          "output_type": "stream",
          "name": "stdout",
          "text": [
            "Error: Key does not exist.\n"
          ]
        }
      ]
    },
    {
      "cell_type": "markdown",
      "source": [
        "**12. Write a program that demonstrates using multiple except blocks to handle different types of exceptions.**"
      ],
      "metadata": {
        "id": "I9Vk8ualVGdL"
      }
    },
    {
      "cell_type": "code",
      "source": [
        "try:\n",
        "    result = 10 / 0\n",
        "    print(data[\"age\"])\n",
        "except ZeroDivisionError:\n",
        "    print(\"Error: Division by zero.\")\n",
        "except KeyError:\n",
        "    print(\"Error: Key does not exist.\")\n"
      ],
      "metadata": {
        "id": "ud8wPceDVF4D",
        "outputId": "0da98988-0e41-47dd-e3e7-5fda9b29ea21",
        "colab": {
          "base_uri": "https://localhost:8080/"
        }
      },
      "execution_count": 5,
      "outputs": [
        {
          "output_type": "stream",
          "name": "stdout",
          "text": [
            "Error: Division by zero.\n"
          ]
        }
      ]
    },
    {
      "cell_type": "markdown",
      "source": [
        "**13. How would you check if a file exists before attempting to read it in Python?**"
      ],
      "metadata": {
        "id": "VvKNttHyVOO8"
      }
    },
    {
      "cell_type": "code",
      "source": [
        "import os\n",
        "\n",
        "file_path = \"example.txt\"\n",
        "if os.path.exists(file_path):\n",
        "    with open(file_path, \"r\") as file:\n",
        "        content = file.read()\n",
        "else:\n",
        "    print(\"Error: File does not exist.\")\n"
      ],
      "metadata": {
        "id": "jsieqW1wVMPo"
      },
      "execution_count": 6,
      "outputs": []
    },
    {
      "cell_type": "markdown",
      "source": [
        "**14. Write a program that uses the logging module to log both informational and error messages.**"
      ],
      "metadata": {
        "id": "2kL3AqIRVS9t"
      }
    },
    {
      "cell_type": "code",
      "source": [
        "import logging\n",
        "\n",
        "logging.basicConfig(level=logging.INFO)\n",
        "\n",
        "try:\n",
        "    with open(\"example.txt\", \"r\") as file:\n",
        "        logging.info(\"File opened successfully.\")\n",
        "        content = file.read()\n",
        "except FileNotFoundError:\n",
        "    logging.error(\"Error: File not found.\")\n"
      ],
      "metadata": {
        "id": "SnrCPO3OVRPF"
      },
      "execution_count": 7,
      "outputs": []
    },
    {
      "cell_type": "markdown",
      "source": [
        "**15. Write a Python program that prints the content of a file and handles the case when the file is empty.**"
      ],
      "metadata": {
        "id": "WtSPnUXgWdyj"
      }
    },
    {
      "cell_type": "code",
      "source": [
        "try:\n",
        "    with open(\"example.txt\", \"r\") as file:\n",
        "        content = file.read()\n",
        "        if not content.strip():\n",
        "            print(\"File is empty.\")\n",
        "        else:\n",
        "            print(content)\n",
        "except FileNotFoundError:\n",
        "    print(\"Error: File not found.\")\n"
      ],
      "metadata": {
        "id": "Xp9Vo2G4WdSA",
        "outputId": "e2e3add1-94d6-4754-b62c-a71adfe8898b",
        "colab": {
          "base_uri": "https://localhost:8080/"
        }
      },
      "execution_count": 8,
      "outputs": [
        {
          "output_type": "stream",
          "name": "stdout",
          "text": [
            "\n",
            "This is appended text.\n"
          ]
        }
      ]
    },
    {
      "cell_type": "markdown",
      "source": [
        "**16. Demonstrate how to use memory profiling to check the memory usage of a small program.**"
      ],
      "metadata": {
        "id": "-lL-wNk4Wt1Y"
      }
    },
    {
      "cell_type": "code",
      "source": [
        "from memory_profiler import profile\n",
        "\n",
        "@profile\n",
        "def create_list():\n",
        "    return [i for i in range(100000)]\n",
        "\n",
        "if __name__ == \"__main__\":\n",
        "    create_list()"
      ],
      "metadata": {
        "id": "aJDIsSr3W6j2"
      },
      "execution_count": null,
      "outputs": []
    },
    {
      "cell_type": "markdown",
      "source": [
        "**17. Write a Python program to create and write a list of numbers to a file, one number per line.**"
      ],
      "metadata": {
        "id": "LI_nStSaW8su"
      }
    },
    {
      "cell_type": "code",
      "source": [
        "numbers = [1, 2, 3, 4, 5]\n",
        "with open(\"numbers.txt\", \"w\") as file:\n",
        "    for number in numbers:\n",
        "        file.write(f\"{number}\\n\")\n"
      ],
      "metadata": {
        "id": "bgqIMIhxWxai"
      },
      "execution_count": 11,
      "outputs": []
    },
    {
      "cell_type": "markdown",
      "source": [
        "**18. How would you implement a basic logging setup that logs to a file with rotation after 1MB?**"
      ],
      "metadata": {
        "id": "JL8pVqQRXKC8"
      }
    },
    {
      "cell_type": "code",
      "source": [
        "import logging\n",
        "from logging.handlers import RotatingFileHandler\n",
        "\n",
        "handler = RotatingFileHandler(\"app.log\", maxBytes=1_000_000, backupCount=5)\n",
        "logging.basicConfig(handlers=[handler], level=logging.INFO)\n",
        "\n",
        "logging.info(\"This is a log message.\")\n"
      ],
      "metadata": {
        "id": "q4iG4kcIXHmT"
      },
      "execution_count": 12,
      "outputs": []
    },
    {
      "cell_type": "markdown",
      "source": [
        "**19. Write a program that handles both IndexError and KeyError using a try-except block.**"
      ],
      "metadata": {
        "id": "EY44B_LkXOQY"
      }
    },
    {
      "cell_type": "code",
      "source": [
        "data = {\"name\": \"Alice\"}\n",
        "my_list = [1, 2, 3]\n",
        "\n",
        "try:\n",
        "    print(data[\"age\"])\n",
        "    print(my_list[5])\n",
        "except KeyError:\n",
        "    print(\"Error: Key does not exist.\")\n",
        "except IndexError:\n",
        "    print(\"Error: Index out of range.\")\n"
      ],
      "metadata": {
        "id": "2N0AxZsEXNzU",
        "outputId": "3a24ac93-c94c-4703-e217-6598b5ad46cc",
        "colab": {
          "base_uri": "https://localhost:8080/"
        }
      },
      "execution_count": 13,
      "outputs": [
        {
          "output_type": "stream",
          "name": "stdout",
          "text": [
            "Error: Key does not exist.\n"
          ]
        }
      ]
    },
    {
      "cell_type": "markdown",
      "source": [
        "**20. How would you open a file and read its contents using a context manager in Python?**"
      ],
      "metadata": {
        "id": "fqyliLzTXbaf"
      }
    },
    {
      "cell_type": "code",
      "source": [
        "with open(\"example.txt\", \"r\") as file:\n",
        "    content = file.read()\n",
        "    print(content)\n"
      ],
      "metadata": {
        "id": "ZT7AbVVWXT-T",
        "outputId": "e325e789-826e-4e82-9141-96765dea401d",
        "colab": {
          "base_uri": "https://localhost:8080/"
        }
      },
      "execution_count": 15,
      "outputs": [
        {
          "output_type": "stream",
          "name": "stdout",
          "text": [
            "\n",
            "This is appended text.\n"
          ]
        }
      ]
    },
    {
      "cell_type": "markdown",
      "source": [
        "**21. Write a Python program that reads a file and prints the number of occurrences of a specific word.**"
      ],
      "metadata": {
        "id": "N076wUzfXfKS"
      }
    },
    {
      "cell_type": "code",
      "source": [
        "word_to_count = \"example\"\n",
        "with open(\"example.txt\", \"r\") as file:\n",
        "    content = file.read()\n",
        "    count = content.count(word_to_count)\n",
        "print(f\"The word '{word_to_count}' appears {count} times.\")\n"
      ],
      "metadata": {
        "id": "yPPQnACsXaJt",
        "outputId": "984a720e-33ea-47b8-de6a-9c2e5b6188ea",
        "colab": {
          "base_uri": "https://localhost:8080/"
        }
      },
      "execution_count": 16,
      "outputs": [
        {
          "output_type": "stream",
          "name": "stdout",
          "text": [
            "The word 'example' appears 0 times.\n"
          ]
        }
      ]
    },
    {
      "cell_type": "markdown",
      "source": [
        "**22. How can you check if a file is empty before attempting to read its contents?**"
      ],
      "metadata": {
        "id": "86GwkWmrXmPA"
      }
    },
    {
      "cell_type": "code",
      "source": [
        "file_path = \"example.txt\"\n",
        "if os.path.exists(file_path):\n",
        "    if os.path.getsize(file_path) == 0:\n",
        "        print(\"File is empty.\")\n",
        "    else:\n",
        "        print(\"File is not empty.\")\n",
        "else:\n",
        "    print(\"File does not exist.\")\n"
      ],
      "metadata": {
        "id": "YwvwhzfdXkGE",
        "outputId": "6ea54c83-980e-42fd-9d29-329018fe6f9d",
        "colab": {
          "base_uri": "https://localhost:8080/"
        }
      },
      "execution_count": 17,
      "outputs": [
        {
          "output_type": "stream",
          "name": "stdout",
          "text": [
            "File is not empty.\n"
          ]
        }
      ]
    },
    {
      "cell_type": "markdown",
      "source": [
        "**23. Write a Python program that writes to a log file when an error occurs during file handling.**"
      ],
      "metadata": {
        "id": "qzM_5dyKXv-h"
      }
    },
    {
      "cell_type": "code",
      "source": [
        "import logging\n",
        "\n",
        "logging.basicConfig(filename=\"error.log\", level=logging.ERROR)\n",
        "\n",
        "try:\n",
        "    with open(\"nonexistent_file.txt\", \"r\") as file:\n",
        "        content = file.read()\n",
        "except FileNotFoundError as e:\n",
        "    logging.error(f\"Error occurred: {e}\")\n"
      ],
      "metadata": {
        "id": "QZMYd7_rXq7r",
        "outputId": "60eb5d4b-fd3c-4b48-8ba6-27b55889c9af",
        "colab": {
          "base_uri": "https://localhost:8080/"
        }
      },
      "execution_count": 19,
      "outputs": [
        {
          "output_type": "stream",
          "name": "stderr",
          "text": [
            "ERROR:root:Error occurred: [Errno 2] No such file or directory: 'nonexistent_file.txt'\n"
          ]
        }
      ]
    }
  ]
}