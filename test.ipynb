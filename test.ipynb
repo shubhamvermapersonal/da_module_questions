{
  "nbformat": 4,
  "nbformat_minor": 0,
  "metadata": {
    "colab": {
      "provenance": [],
      "authorship_tag": "ABX9TyPGwySvppZLjJEaYbpqH2Qg",
      "include_colab_link": true
    },
    "kernelspec": {
      "name": "python3",
      "display_name": "Python 3"
    },
    "language_info": {
      "name": "python"
    }
  },
  "cells": [
    {
      "cell_type": "markdown",
      "metadata": {
        "id": "view-in-github",
        "colab_type": "text"
      },
      "source": [
        "<a href=\"https://colab.research.google.com/github/shubhamvermapersonal/da_module_questions/blob/main/test.ipynb\" target=\"_parent\"><img src=\"https://colab.research.google.com/assets/colab-badge.svg\" alt=\"Open In Colab\"/></a>"
      ]
    },
    {
      "cell_type": "code",
      "execution_count": null,
      "metadata": {
        "id": "Ttdnd1RkhgEk"
      },
      "outputs": [],
      "source": []
    },
    {
      "cell_type": "markdown",
      "source": [
        "fjhds"
      ],
      "metadata": {
        "id": "xXnmVMDjhgpG"
      }
    },
    {
      "cell_type": "code",
      "source": [],
      "metadata": {
        "id": "8PP34RYihjo6"
      },
      "execution_count": null,
      "outputs": []
    }
  ]
}